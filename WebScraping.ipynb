{
 "cells": [
  {
   "cell_type": "markdown",
   "metadata": {},
   "source": [
    "# Automação Web e Busca de Informações com Python\n",
    "\n",
    "#### Desafio: \n",
    "\n",
    "Trabalhamos em uma importadora e o preço dos nossos produtos é vinculado a cotação de:\n",
    "- Dólar\n",
    "- Euro\n",
    "- Ouro\n",
    "\n",
    "Precisamos pegar na internet, de forma automática, a cotação desses 3 itens e saber quanto devemos cobrar pelos nossos produtos, considerando uma margem de contribuição que temos na nossa base de dados.\n",
    "\n",
    "\n",
    "Para isso, vamos criar uma automação web:\n",
    "\n",
    "- Usaremos o selenium\n",
    "- Importante: baixar o webdriver"
   ]
  },
  {
   "cell_type": "code",
   "execution_count": null,
   "metadata": {},
   "outputs": [],
   "source": [
    "#Step 1 Access Internet\n",
    "#importing selenium\n",
    "\n",
    "from selenium import webdriver\n",
    "from selenium.webdriver.common.keys import Keys\n",
    "\n",
    "\n",
    "#open chrome\n",
    "nav = webdriver.Chrome()\n",
    "\n",
    "#access site\n",
    "nav.get('https://www.google.com')\n",
    "\n",
    "#search for dollar terms\n",
    "nav.find_element_by_xpath('/html/body/div[1]/div[3]/form/div[1]/div[1]/div[1]/div/div[2]/input').send_keys('Cotação Dolar')\n",
    "nav.find_element_by_xpath('/html/body/div[1]/div[3]/form/div[1]/div[1]/div[1]/div/div[2]/input').send_keys(Keys.ENTER)\n",
    "#capture the information needed\n",
    "cot_dolar = nav.find_element_by_xpath('//*[@id=\"knowledge-currency__updatable-data-column\"]/div[1]/div[2]/span[1]').get_attribute('data-value')\n",
    "print(cot_dolar)\n",
    "\n",
    "nav.get('https://www.google.com')\n",
    "#finding element for google search, make the search and enter for euro\n",
    "nav.find_element_by_xpath('/html/body/div[1]/div[3]/form/div[1]/div[1]/div[1]/div/div[2]/input').send_keys('Cotação Euro')\n",
    "nav.find_element_by_xpath('/html/body/div[1]/div[3]/form/div[1]/div[1]/div[1]/div/div[2]/input').send_keys(Keys.ENTER)\n",
    "#capture the information needed\n",
    "cot_euro = nav.find_element_by_xpath('//*[@id=\"knowledge-currency__updatable-data-column\"]/div[1]/div[2]/span[1]').get_attribute('data-value')\n",
    "print(cot_euro)\n",
    "\n",
    "#open browser for another site\n",
    "nav.get('https://www.melhorcambio.com/ouro-hoje')\n",
    "cot_ouro = nav.find_element_by_xpath('//*[@id=\"comercial\"]').get_attribute('value')\n",
    "cot_ouro = cot_ouro.replace(',', '.')\n",
    "print(cot_ouro)\n",
    "\n",
    "nav.quit()\n"
   ]
  },
  {
   "cell_type": "markdown",
   "metadata": {},
   "source": [
    "### Agora vamos atualiza a nossa base de preços com as novas cotações"
   ]
  },
  {
   "cell_type": "markdown",
   "metadata": {},
   "source": [
    "- Importando a base de dados"
   ]
  },
  {
   "cell_type": "code",
   "execution_count": null,
   "metadata": {
    "scrolled": true
   },
   "outputs": [],
   "source": [
    "#importing the product list\n",
    "import pandas as pd\n",
    "\n",
    "df = pd.read_excel('Produtos.xlsx')\n",
    "display(df)"
   ]
  },
  {
   "cell_type": "markdown",
   "metadata": {},
   "source": [
    "- Atualizando os preços e o cálculo do Preço Final"
   ]
  },
  {
   "cell_type": "code",
   "execution_count": 39,
   "metadata": {},
   "outputs": [
    {
     "data": {
      "text/html": [
       "<div>\n",
       "<style scoped>\n",
       "    .dataframe tbody tr th:only-of-type {\n",
       "        vertical-align: middle;\n",
       "    }\n",
       "\n",
       "    .dataframe tbody tr th {\n",
       "        vertical-align: top;\n",
       "    }\n",
       "\n",
       "    .dataframe thead th {\n",
       "        text-align: right;\n",
       "    }\n",
       "</style>\n",
       "<table border=\"1\" class=\"dataframe\">\n",
       "  <thead>\n",
       "    <tr style=\"text-align: right;\">\n",
       "      <th></th>\n",
       "      <th>Produtos</th>\n",
       "      <th>Preço Base Original</th>\n",
       "      <th>Moeda</th>\n",
       "      <th>Cotação</th>\n",
       "      <th>Preço Base Reais</th>\n",
       "      <th>Margem</th>\n",
       "      <th>Preço Final</th>\n",
       "    </tr>\n",
       "  </thead>\n",
       "  <tbody>\n",
       "    <tr>\n",
       "      <th>0</th>\n",
       "      <td>Câmera Canon</td>\n",
       "      <td>999.99</td>\n",
       "      <td>Dólar</td>\n",
       "      <td>5.254000</td>\n",
       "      <td>5253.947460</td>\n",
       "      <td>1.40</td>\n",
       "      <td>7355.53</td>\n",
       "    </tr>\n",
       "    <tr>\n",
       "      <th>1</th>\n",
       "      <td>Carro Renault</td>\n",
       "      <td>4500.00</td>\n",
       "      <td>Euro</td>\n",
       "      <td>6.164702</td>\n",
       "      <td>27741.159405</td>\n",
       "      <td>2.00</td>\n",
       "      <td>55482.32</td>\n",
       "    </tr>\n",
       "    <tr>\n",
       "      <th>2</th>\n",
       "      <td>Notebook Dell</td>\n",
       "      <td>899.99</td>\n",
       "      <td>Dólar</td>\n",
       "      <td>5.254000</td>\n",
       "      <td>4728.547460</td>\n",
       "      <td>1.70</td>\n",
       "      <td>8038.53</td>\n",
       "    </tr>\n",
       "    <tr>\n",
       "      <th>3</th>\n",
       "      <td>IPhone</td>\n",
       "      <td>799.00</td>\n",
       "      <td>Dólar</td>\n",
       "      <td>5.254000</td>\n",
       "      <td>4197.946000</td>\n",
       "      <td>1.70</td>\n",
       "      <td>7136.51</td>\n",
       "    </tr>\n",
       "    <tr>\n",
       "      <th>4</th>\n",
       "      <td>Carro Fiat</td>\n",
       "      <td>3000.00</td>\n",
       "      <td>Euro</td>\n",
       "      <td>6.164702</td>\n",
       "      <td>18494.106270</td>\n",
       "      <td>1.90</td>\n",
       "      <td>35138.80</td>\n",
       "    </tr>\n",
       "    <tr>\n",
       "      <th>5</th>\n",
       "      <td>Celular Xiaomi</td>\n",
       "      <td>480.48</td>\n",
       "      <td>Dólar</td>\n",
       "      <td>5.254000</td>\n",
       "      <td>2524.441920</td>\n",
       "      <td>2.00</td>\n",
       "      <td>5048.88</td>\n",
       "    </tr>\n",
       "    <tr>\n",
       "      <th>6</th>\n",
       "      <td>Joia 20g</td>\n",
       "      <td>20.00</td>\n",
       "      <td>Ouro</td>\n",
       "      <td>296.310000</td>\n",
       "      <td>5926.200000</td>\n",
       "      <td>1.15</td>\n",
       "      <td>6815.13</td>\n",
       "    </tr>\n",
       "  </tbody>\n",
       "</table>\n",
       "</div>"
      ],
      "text/plain": [
       "         Produtos  Preço Base Original  Moeda     Cotação  Preço Base Reais  \\\n",
       "0    Câmera Canon               999.99  Dólar    5.254000       5253.947460   \n",
       "1   Carro Renault              4500.00   Euro    6.164702      27741.159405   \n",
       "2   Notebook Dell               899.99  Dólar    5.254000       4728.547460   \n",
       "3          IPhone               799.00  Dólar    5.254000       4197.946000   \n",
       "4      Carro Fiat              3000.00   Euro    6.164702      18494.106270   \n",
       "5  Celular Xiaomi               480.48  Dólar    5.254000       2524.441920   \n",
       "6        Joia 20g                20.00   Ouro  296.310000       5926.200000   \n",
       "\n",
       "   Margem Preço Final  \n",
       "0    1.40     7355.53  \n",
       "1    2.00    55482.32  \n",
       "2    1.70     8038.53  \n",
       "3    1.70     7136.51  \n",
       "4    1.90    35138.80  \n",
       "5    2.00     5048.88  \n",
       "6    1.15     6815.13  "
      ]
     },
     "metadata": {},
     "output_type": "display_data"
    }
   ],
   "source": [
    "#update the df\n",
    "\n",
    "#update the value of Dollar, Euro and Gold, with the scraping data from the cell above\n",
    "df.loc[df[\"Moeda\"] == 'Dólar', 'Cotação'] = float(cot_dolar)\n",
    "df.loc[df[\"Moeda\"] == 'Euro', 'Cotação'] = float(cot_euro)\n",
    "df.loc[df[\"Moeda\"] == 'Ouro', 'Cotação'] = float(cot_ouro)\n",
    "\n",
    "#updating the final price\n",
    "df['Preço Base Reais'] = df['Preço Base Original'] * df['Cotação']\n",
    "df['Preço Final'] = df['Preço Base Reais'] * df['Margem']\n",
    "\n",
    "df['Preço Final'] = df['Preço Base Reais'] * df['Margem']\n",
    "df['Preço Final'] = df['Preço Final'].map('{:.2f}'.format)\n",
    "                                                            \n",
    "\n",
    "display(df)"
   ]
  },
  {
   "cell_type": "markdown",
   "metadata": {},
   "source": [
    "### Agora vamos exportar a nova base de preços atualizada"
   ]
  },
  {
   "cell_type": "code",
   "execution_count": 40,
   "metadata": {},
   "outputs": [],
   "source": [
    "df.to_excel('Produtos Novos.xlsx', index=False)"
   ]
  },
  {
   "cell_type": "code",
   "execution_count": null,
   "metadata": {},
   "outputs": [],
   "source": []
  },
  {
   "cell_type": "code",
   "execution_count": null,
   "metadata": {},
   "outputs": [],
   "source": []
  }
 ],
 "metadata": {
  "kernelspec": {
   "display_name": "Python 3",
   "language": "python",
   "name": "python3"
  },
  "language_info": {
   "codemirror_mode": {
    "name": "ipython",
    "version": 3
   },
   "file_extension": ".py",
   "mimetype": "text/x-python",
   "name": "python",
   "nbconvert_exporter": "python",
   "pygments_lexer": "ipython3",
   "version": "3.8.8"
  }
 },
 "nbformat": 4,
 "nbformat_minor": 4
}
